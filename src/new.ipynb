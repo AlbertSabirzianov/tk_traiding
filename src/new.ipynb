{
 "cells": [
  {
   "cell_type": "code",
   "id": "initial_id",
   "metadata": {
    "collapsed": true,
    "ExecuteTime": {
     "end_time": "2025-10-09T07:01:11.060755Z",
     "start_time": "2025-10-09T07:01:11.034202Z"
    }
   },
   "source": "from dotenv import load_dotenv",
   "outputs": [],
   "execution_count": 1
  },
  {
   "metadata": {
    "ExecuteTime": {
     "end_time": "2025-10-09T07:01:13.082474Z",
     "start_time": "2025-10-09T07:01:13.051905Z"
    }
   },
   "cell_type": "code",
   "source": [
    "\n",
    "load_dotenv()\n"
   ],
   "id": "43d1dd7d45256db7",
   "outputs": [
    {
     "data": {
      "text/plain": [
       "True"
      ]
     },
     "execution_count": 2,
     "metadata": {},
     "output_type": "execute_result"
    }
   ],
   "execution_count": 2
  },
  {
   "metadata": {
    "ExecuteTime": {
     "end_time": "2025-10-09T07:01:54.166706Z",
     "start_time": "2025-10-09T07:01:47.271487Z"
    }
   },
   "cell_type": "code",
   "source": "from ml_models_creation import create_and_write_logistic_model_to_file",
   "id": "e9153b3091b11ae9",
   "outputs": [],
   "execution_count": 4
  },
  {
   "metadata": {
    "ExecuteTime": {
     "end_time": "2025-10-09T07:15:13.103118Z",
     "start_time": "2025-10-09T07:15:13.049479Z"
    }
   },
   "cell_type": "code",
   "source": "from ml_models_creation import get_data",
   "id": "a7f931a5f94f034b",
   "outputs": [],
   "execution_count": 5
  },
  {
   "metadata": {
    "ExecuteTime": {
     "end_time": "2025-10-09T07:15:31.899937Z",
     "start_time": "2025-10-09T07:15:31.893093Z"
    }
   },
   "cell_type": "code",
   "source": "from app.settings import TinkoffSettings",
   "id": "b077551fd36e505d",
   "outputs": [],
   "execution_count": 6
  },
  {
   "metadata": {
    "ExecuteTime": {
     "end_time": "2025-10-09T07:15:43.660726Z",
     "start_time": "2025-10-09T07:15:43.652398Z"
    }
   },
   "cell_type": "code",
   "source": "from app.tinkoff_service import TkBroker",
   "id": "e72445c75cd01e77",
   "outputs": [],
   "execution_count": 7
  },
  {
   "metadata": {
    "ExecuteTime": {
     "end_time": "2025-10-09T07:16:32.968071Z",
     "start_time": "2025-10-09T07:16:30.715444Z"
    }
   },
   "cell_type": "code",
   "source": "tk_broker = TkBroker(tok=TinkoffSettings().tk_api_key)",
   "id": "9d75b88ec3153c57",
   "outputs": [],
   "execution_count": 9
  },
  {
   "metadata": {
    "ExecuteTime": {
     "end_time": "2025-10-09T08:10:31.309549Z",
     "start_time": "2025-10-09T08:10:31.302076Z"
    }
   },
   "cell_type": "code",
   "source": "from sklearn.linear_model import LogisticRegression, LogisticRegressionCV",
   "id": "4b7449931f044d23",
   "outputs": [],
   "execution_count": 89
  },
  {
   "metadata": {},
   "cell_type": "code",
   "outputs": [],
   "execution_count": null,
   "source": "",
   "id": "a996797a0f21c36b"
  },
  {
   "metadata": {},
   "cell_type": "code",
   "outputs": [],
   "execution_count": null,
   "source": "",
   "id": "1a09cc7d6654e3da"
  },
  {
   "metadata": {
    "ExecuteTime": {
     "end_time": "2025-10-09T08:41:40.446440Z",
     "start_time": "2025-10-09T08:41:02.083104Z"
    }
   },
   "cell_type": "code",
   "source": [
    "create_and_write_logistic_model_to_file(\n",
    "    ticker=\"GAZP\",\n",
    "    days=15,\n",
    "    data_folder=\".\",\n",
    "    model=LogisticRegressionCV(max_iter=10000, class_weight=\"balanced\"),\n",
    "    offset_days=1\n",
    ")\n"
   ],
   "id": "832c712602257625",
   "outputs": [
    {
     "name": "stdout",
     "output_type": "stream",
     "text": [
      "len of data for GAZP - 2197\n",
      "action\n",
      "BUY        1151\n",
      "SELL        829\n",
      "NOTHING     217\n",
      "Name: count, dtype: int64\n"
     ]
    }
   ],
   "execution_count": 145
  },
  {
   "metadata": {
    "ExecuteTime": {
     "end_time": "2025-10-09T08:41:49.963517Z",
     "start_time": "2025-10-09T08:41:49.944892Z"
    }
   },
   "cell_type": "code",
   "source": [
    "from app.settings import StrategySettings\n",
    "from ta import add_all_ta_features\n",
    "import pandas as pd\n",
    "from tinkoff.invest import CandleInterval\n",
    "from ml_models_creation import get_workday_time_ranges_last_days, get_actions\n",
    "\n",
    "\n",
    "def get_data(\n",
    "    ticker: str,\n",
    "    days: int,\n",
    "    offset_days: int = 0,\n",
    "):\n",
    "    tk_broker = TkBroker(tok=TinkoffSettings().tk_api_key)\n",
    "    if not tk_broker.validate_tickers(stock_tickers=[ticker]):\n",
    "        return\n",
    "\n",
    "    dfs = []\n",
    "    for start_day, end_day in get_workday_time_ranges_last_days(days=days, offset_days=offset_days):\n",
    "        dfs.append(\n",
    "            tk_broker.get_candles_from_ticker(\n",
    "                ticker=ticker,\n",
    "                from_=start_day,\n",
    "                to_=end_day,\n",
    "                candl_interval=CandleInterval.CANDLE_INTERVAL_5_MIN\n",
    "            )\n",
    "        )\n",
    "    df = pd.concat(dfs)\n",
    "\n",
    "    all_df = add_all_ta_features(\n",
    "        df,\n",
    "        open=\"open\",  # noqa\n",
    "        high=\"high\",\n",
    "        low=\"low\",\n",
    "        close=\"close\",\n",
    "        volume=\"volume\"\n",
    "    )\n",
    "\n",
    "    all_df = all_df.drop(\"trend_psar_up\", axis=1)\n",
    "    all_df = all_df.drop(\"trend_psar_down\", axis=1)\n",
    "    all_df = all_df.dropna()\n",
    "\n",
    "    all_df[\"action\"] = get_actions(\n",
    "        stop_loss_percent=StrategySettings().stopp_loss_percent,\n",
    "        take_profit_percent=StrategySettings().profit_percent,\n",
    "        prices=all_df[\"close\"],\n",
    "        lows=all_df[\"low\"],\n",
    "        highs=all_df[\"high\"],\n",
    "    )\n",
    "    all_df = all_df.drop(\"time\", axis=1)\n",
    "    print(f\"len of data for {ticker} - {len(all_df)}\")\n",
    "    print(f\"{all_df['action'].value_counts()}\")\n",
    "    return all_df"
   ],
   "id": "be990f9052fe5589",
   "outputs": [],
   "execution_count": 146
  },
  {
   "metadata": {
    "ExecuteTime": {
     "end_time": "2025-10-09T08:42:05.446157Z",
     "start_time": "2025-10-09T08:42:04.908138Z"
    }
   },
   "cell_type": "code",
   "source": "data = get_data(ticker=\"GAZP\", days=1)",
   "id": "3168d7120bb7fb38",
   "outputs": [
    {
     "name": "stdout",
     "output_type": "stream",
     "text": [
      "len of data for GAZP - 175\n",
      "action\n",
      "SELL       81\n",
      "BUY        56\n",
      "NOTHING    38\n",
      "Name: count, dtype: int64\n"
     ]
    }
   ],
   "execution_count": 147
  },
  {
   "metadata": {
    "ExecuteTime": {
     "end_time": "2025-10-09T08:30:00.004028Z",
     "start_time": "2025-10-09T08:29:59.996291Z"
    }
   },
   "cell_type": "code",
   "source": "import joblib",
   "id": "a2ccf92c58cf7dce",
   "outputs": [],
   "execution_count": 138
  },
  {
   "metadata": {
    "ExecuteTime": {
     "end_time": "2025-10-09T08:42:18.087222Z",
     "start_time": "2025-10-09T08:42:18.073725Z"
    }
   },
   "cell_type": "code",
   "source": "model = joblib.load(\"GAZP_logistic_model.pkl\")",
   "id": "472d064b87e1b6a0",
   "outputs": [],
   "execution_count": 149
  },
  {
   "metadata": {
    "ExecuteTime": {
     "end_time": "2025-10-09T08:42:22.971937Z",
     "start_time": "2025-10-09T08:42:22.960340Z"
    }
   },
   "cell_type": "code",
   "source": "scaler = joblib.load(\"GAZP_logistic_scaler.pkl\")",
   "id": "6a94084aff615c0",
   "outputs": [],
   "execution_count": 150
  },
  {
   "metadata": {
    "ExecuteTime": {
     "end_time": "2025-10-09T08:42:24.387168Z",
     "start_time": "2025-10-09T08:42:24.380489Z"
    }
   },
   "cell_type": "code",
   "source": "from sklearn.metrics import classification_report",
   "id": "6686c0c1d020575d",
   "outputs": [],
   "execution_count": 151
  },
  {
   "metadata": {
    "ExecuteTime": {
     "end_time": "2025-10-09T08:42:25.209602Z",
     "start_time": "2025-10-09T08:42:25.163251Z"
    }
   },
   "cell_type": "code",
   "source": [
    "print(classification_report(\n",
    "    y_true=data[\"action\"],\n",
    "    y_pred=model.predict(scaler.transform(data.drop(\"action\", axis=1))),\n",
    "    zero_division=0\n",
    "))"
   ],
   "id": "3585f95cfa6432f4",
   "outputs": [
    {
     "name": "stdout",
     "output_type": "stream",
     "text": [
      "              precision    recall  f1-score   support\n",
      "\n",
      "         BUY       0.00      0.00      0.00        56\n",
      "     NOTHING       0.40      0.84      0.54        38\n",
      "        SELL       0.69      0.80      0.74        81\n",
      "\n",
      "    accuracy                           0.55       175\n",
      "   macro avg       0.36      0.55      0.43       175\n",
      "weighted avg       0.41      0.55      0.46       175\n",
      "\n"
     ]
    }
   ],
   "execution_count": 152
  },
  {
   "metadata": {
    "ExecuteTime": {
     "end_time": "2025-10-09T08:42:28.552753Z",
     "start_time": "2025-10-09T08:42:28.354767Z"
    }
   },
   "cell_type": "code",
   "source": [
    "from sklearn.metrics import confusion_matrix, ConfusionMatrixDisplay\n",
    "import matplotlib.pyplot as plt\n",
    "\n",
    "cm = confusion_matrix(y_true=data[\"action\"], y_pred=model.predict(scaler.transform(data.drop(\"action\", axis=1))),\n",
    "                                                                  labels=model.classes_)\n",
    "disp = ConfusionMatrixDisplay(confusion_matrix=cm, display_labels=model.classes_)\n",
    "disp.plot(cmap=\"Blues\")\n",
    "plt.show()"
   ],
   "id": "df6810e94b135c41",
   "outputs": [
    {
     "data": {
      "text/plain": [
       "<Figure size 640x480 with 2 Axes>"
      ],
      "image/png": "[encoded data removed]"
     },
     "metadata": {},
     "output_type": "display_data"
    }
   ],
   "execution_count": 153
  },
  {
   "metadata": {},
   "cell_type": "code",
   "outputs": [],
   "execution_count": null,
   "source": "",
   "id": "6edad67eb798ab48"
  },
  {
   "metadata": {},
   "cell_type": "code",
   "outputs": [],
   "execution_count": null,
   "source": "",
   "id": "f02e1bc821e28abf"
  }
 ],
 "metadata": {
  "kernelspec": {
   "display_name": "Python 3",
   "language": "python",
   "name": "python3"
  },
  "language_info": {
   "codemirror_mode": {
    "name": "ipython",
    "version": 2
   },
   "file_extension": ".py",
   "mimetype": "text/x-python",
   "name": "python",
   "nbconvert_exporter": "python",
   "pygments_lexer": "ipython2",
   "version": "2.7.6"
  }
 },
 "nbformat": 4,
 "nbformat_minor": 5
}
